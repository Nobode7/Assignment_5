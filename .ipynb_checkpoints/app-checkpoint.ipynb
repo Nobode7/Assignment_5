{
 "cells": [
  {
   "cell_type": "code",
   "execution_count": 1,
   "id": "5cbcbf90",
   "metadata": {},
   "outputs": [],
   "source": [
    "from flask import Flask, render_template, redirect, url_for\n",
    "import pandas as pd\n",
    "import csv\n",
    "app = Flask(__name__)"
   ]
  },
  {
   "cell_type": "code",
   "execution_count": null,
   "id": "5a929ce3",
   "metadata": {
    "scrolled": true
   },
   "outputs": [
    {
     "name": "stdout",
     "output_type": "stream",
     "text": [
      " * Serving Flask app \"__main__\" (lazy loading)\n",
      " * Environment: production\n",
      "   WARNING: This is a development server. Do not use it in a production deployment.\n",
      "   Use a production WSGI server instead.\n",
      " * Debug mode: off\n"
     ]
    },
    {
     "name": "stderr",
     "output_type": "stream",
     "text": [
      " * Running on http://localhost:7777/ (Press CTRL+C to quit)\n",
      "127.0.0.1 - - [18/Oct/2021 14:24:41] \"\u001b[37mGET / HTTP/1.1\u001b[0m\" 200 -\n",
      "127.0.0.1 - - [18/Oct/2021 14:24:41] \"\u001b[33mGET /assets/mail/jqBootstrapValidation.js HTTP/1.1\u001b[0m\" 404 -\n",
      "127.0.0.1 - - [18/Oct/2021 14:24:41] \"\u001b[33mGET /assets/mail/jqBootstrapValidation.js HTTP/1.1\u001b[0m\" 404 -\n",
      "127.0.0.1 - - [18/Oct/2021 14:24:42] \"\u001b[33mGET /assets/mail/contact_me.js HTTP/1.1\u001b[0m\" 404 -\n",
      "127.0.0.1 - - [18/Oct/2021 14:24:49] \"\u001b[37mGET /drama HTTP/1.1\u001b[0m\" 200 -\n",
      "127.0.0.1 - - [18/Oct/2021 14:24:49] \"\u001b[33mGET /assets/img/3668858-drama-entertainment-mask-theater_108039.png HTTP/1.1\u001b[0m\" 404 -\n",
      "127.0.0.1 - - [18/Oct/2021 14:24:50] \"\u001b[33mGET /assets/mail/jqBootstrapValidation.js HTTP/1.1\u001b[0m\" 404 -\n",
      "127.0.0.1 - - [18/Oct/2021 14:24:50] \"\u001b[33mGET /assets/mail/contact_me.js HTTP/1.1\u001b[0m\" 404 -\n",
      "127.0.0.1 - - [18/Oct/2021 14:24:50] \"\u001b[33mGET /assets/mail/jqBootstrapValidation.js HTTP/1.1\u001b[0m\" 404 -\n",
      "127.0.0.1 - - [18/Oct/2021 14:24:50] \"\u001b[33mGET /assets/mail/contact_me.js HTTP/1.1\u001b[0m\" 404 -\n",
      "127.0.0.1 - - [18/Oct/2021 14:26:15] \"\u001b[37mGET /discussion HTTP/1.1\u001b[0m\" 200 -\n",
      "127.0.0.1 - - [18/Oct/2021 14:26:15] \"\u001b[33mGET /assets/mail/jqBootstrapValidation.js HTTP/1.1\u001b[0m\" 404 -\n",
      "127.0.0.1 - - [18/Oct/2021 14:26:15] \"\u001b[33mGET /assets/mail/contact_me.js HTTP/1.1\u001b[0m\" 404 -\n",
      "127.0.0.1 - - [18/Oct/2021 14:26:15] \"\u001b[33mGET /assets/mail/jqBootstrapValidation.js HTTP/1.1\u001b[0m\" 404 -\n",
      "127.0.0.1 - - [18/Oct/2021 14:26:16] \"\u001b[33mGET /assets/mail/contact_me.js HTTP/1.1\u001b[0m\" 404 -\n",
      "127.0.0.1 - - [18/Oct/2021 14:26:25] \"\u001b[37mGET /contact HTTP/1.1\u001b[0m\" 200 -\n",
      "127.0.0.1 - - [18/Oct/2021 14:26:25] \"\u001b[33mGET /assets/mail/jqBootstrapValidation.js HTTP/1.1\u001b[0m\" 404 -\n",
      "127.0.0.1 - - [18/Oct/2021 14:26:25] \"\u001b[33mGET /assets/mail/contact_me.js HTTP/1.1\u001b[0m\" 404 -\n",
      "127.0.0.1 - - [18/Oct/2021 14:26:25] \"\u001b[33mGET /static/assets/img/contact-bg.jpg HTTP/1.1\u001b[0m\" 404 -\n",
      "127.0.0.1 - - [18/Oct/2021 14:29:48] \"\u001b[33mGET /a HTTP/1.1\u001b[0m\" 404 -\n",
      "127.0.0.1 - - [18/Oct/2021 14:29:48] \"\u001b[33mGET /assets/mail/jqBootstrapValidation.js HTTP/1.1\u001b[0m\" 404 -\n",
      "127.0.0.1 - - [18/Oct/2021 14:29:48] \"\u001b[33mGET /assets/mail/contact_me.js HTTP/1.1\u001b[0m\" 404 -\n",
      "127.0.0.1 - - [18/Oct/2021 14:29:48] \"\u001b[33mGET /assets/mail/jqBootstrapValidation.js HTTP/1.1\u001b[0m\" 404 -\n",
      "127.0.0.1 - - [18/Oct/2021 14:29:49] \"\u001b[33mGET /assets/mail/contact_me.js HTTP/1.1\u001b[0m\" 404 -\n"
     ]
    }
   ],
   "source": [
    "@app.route(\"/\")\n",
    "def index():\n",
    "    return render_template('index.html')\n",
    "\n",
    "@app.route(\"/drama\")\n",
    "def drama():\n",
    "    df = pd.read_csv(\"dramas.csv\")\n",
    "    list = df.to_dict('records')\n",
    "    return render_template('drama.html', entries = list)\n",
    "\n",
    "@app.route(\"/discussion\")\n",
    "def dashboard():\n",
    "    return render_template('discussion.html')\n",
    "\n",
    "@app.route(\"/contact\")\n",
    "def contact():\n",
    "    return render_template('contact.html')\n",
    "\n",
    "@app.errorhandler(404)\n",
    "def page_not_found(e):\n",
    "    return render_template('404.html'), 404\n",
    "\n",
    "if __name__ == '__main__':\n",
    "    app.run('localhost',7777)\n"
   ]
  }
 ],
 "metadata": {
  "kernelspec": {
   "display_name": "Python 3",
   "language": "python",
   "name": "python3"
  },
  "language_info": {
   "codemirror_mode": {
    "name": "ipython",
    "version": 3
   },
   "file_extension": ".py",
   "mimetype": "text/x-python",
   "name": "python",
   "nbconvert_exporter": "python",
   "pygments_lexer": "ipython3",
   "version": "3.8.8"
  }
 },
 "nbformat": 4,
 "nbformat_minor": 5
}
